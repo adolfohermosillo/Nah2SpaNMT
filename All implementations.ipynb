{
 "cells": [
  {
   "cell_type": "markdown",
   "metadata": {},
   "source": [
    "# Open NMT commands"
   ]
  },
  {
   "cell_type": "markdown",
   "metadata": {},
   "source": [
    " Install OpenNMT-py"
   ]
  },
  {
   "cell_type": "code",
   "execution_count": null,
   "metadata": {},
   "outputs": [],
   "source": [
    "!git clone https://github.com/OpenNMT/OpenNMT-py.git\n",
    "!cd OpenNMT-py\n",
    "!python setup.py install"
   ]
  },
  {
   "cell_type": "markdown",
   "metadata": {},
   "source": [
    "## LeNu"
   ]
  },
  {
   "cell_type": "code",
   "execution_count": null,
   "metadata": {},
   "outputs": [],
   "source": [
    "#preprocess\n",
    "!onmt_preprocess -train_src data/LeNu-src-train.txt -train_tgt data/LeNu-tgt-train.txt -valid_src data/LeNu-src-val.txt -valid_tgt data/LeNu-tgt-val.txt -save_data data/LeNu\n",
    "\n",
    "#train\n",
    "!onmt_train -data data/LeNu -save_model model/LeNu\n",
    "\n"
   ]
  },
  {
   "cell_type": "code",
   "execution_count": null,
   "metadata": {},
   "outputs": [],
   "source": [
    "#translate\n",
    "for i in range(5000,105000,5000):    \n",
    "    print('!onmt_translate -model LeNu.pt -src data/LeNu-src-test.txt -output predictions/LeNu-pred'+str(i)+'.txt -replace_unk ')\n",
    "#evaluate\n",
    "for i in range(5000,105000,5000):    \n",
    "    print('!multi-bleu.perl data/LeNu+MS-src-test.txt < predictions/LeNu-pred'+str(i)+'.txt')\n",
    "\n"
   ]
  },
  {
   "cell_type": "markdown",
   "metadata": {},
   "source": [
    "## LeNuP"
   ]
  },
  {
   "cell_type": "code",
   "execution_count": null,
   "metadata": {},
   "outputs": [],
   "source": [
    "#preprocess\n",
    "!onmt_preprocess -train_src data/LeNuP-src-train.txt -train_tgt data/LeNuP-tgt-train.txt -valid_src data/LeNuP-src-val.txt -valid_tgt data/LeNuP-tgt-val.txt -save_data data/LeNuP\n",
    "\n",
    "#translate\n",
    "!onmt_train -data data/LeNuP -save_model model/LeNuP"
   ]
  },
  {
   "cell_type": "code",
   "execution_count": null,
   "metadata": {},
   "outputs": [],
   "source": [
    "#translate\n",
    "for i in range(5000,105000,5000):    \n",
    "    print('!onmt_translate -model LeNuP.pt -src data/LeNu+MS-src-test.txt -output predictions/LeNuP'+str(i)+'.txt -replace_unk ')\n",
    "#evaluate\n",
    "for i in range(5000,105000,5000):    \n",
    "    print('!multi-bleu.perl data/LeNuP-src-test.txt < predictions/LeNuP-pred'+str(i)+'.txt')\n",
    "\n"
   ]
  },
  {
   "cell_type": "markdown",
   "metadata": {},
   "source": [
    "## LeNu+MS"
   ]
  },
  {
   "cell_type": "code",
   "execution_count": null,
   "metadata": {},
   "outputs": [],
   "source": [
    "##preprocess\n",
    "!onmt_preprocess -train_src data/LeNu+MS-src-train.txt -train_tgt data/LeNu+MS-tgt-train.txt -valid_src data/LeNu+MS-src-val.txt -valid_tgt data/LeNu+MS-tgt-val.txt -save_data data/LeNu+MS\n",
    "\n",
    "#translate\n",
    "!onmt_train -data data/LeNuP+MS -save_model model/LeNu+MS\n",
    "\n"
   ]
  },
  {
   "cell_type": "code",
   "execution_count": null,
   "metadata": {},
   "outputs": [],
   "source": [
    "#translate\n",
    "for i in range(5000,105000,5000):    \n",
    "    print('!onmt_translate -model LeNu+MS.pt -src data/LeNu+MS-src-test.txt -output predictions/LeNu+MS-pred'+str(i)+'.txt -replace_unk ')\n",
    "#evaluate\n",
    "for i in range(5000,105000,5000):    \n",
    "    print('!multi-bleu.perl data/LeNu+MS-src-test.txt < predictions/LeNu+MS-pred'+str(i)+'.txt')\n"
   ]
  },
  {
   "cell_type": "markdown",
   "metadata": {},
   "source": [
    "## LeNuP+MS"
   ]
  },
  {
   "cell_type": "code",
   "execution_count": null,
   "metadata": {},
   "outputs": [],
   "source": [
    "#preprocess\n",
    "!onmt_preprocess -train_src data/LeNuP+MS-src-train.txt -train_tgt data/LeNuP+MS-tgt-train.txt -valid_src data/LeNuP+MS-src-val.txt -valid_tgt data/LeNuP+MS-tgt-val.txt -save_data data/LeNuP+MS\n",
    "\n",
    "#translate\n",
    "!onmt_train -data data/LeNuP+MS -save_model model/LeNu+MS\n"
   ]
  },
  {
   "cell_type": "code",
   "execution_count": null,
   "metadata": {},
   "outputs": [],
   "source": [
    "#translate\n",
    "for i in range(5000,105000,5000):    \n",
    "    print('!onmt_translate -model LeNuP+MS.pt -src data/LeNu+MS-src-test.txt -output predictions/LeNuP+MS-pred'+str(i)+'.txt -replace_unk ')\n",
    "#evaluate\n",
    "for i in range(5000,105000,5000):    \n",
    "    print('!multi-bleu.perl data/LeNuP+MS-src-test.txt < predictions/LeNuP+MS-pred'+str(i)+'.txt')\n",
    "\n"
   ]
  }
 ],
 "metadata": {
  "kernelspec": {
   "display_name": "Python 3",
   "language": "python",
   "name": "python3"
  },
  "language_info": {
   "codemirror_mode": {
    "name": "ipython",
    "version": 3
   },
   "file_extension": ".py",
   "mimetype": "text/x-python",
   "name": "python",
   "nbconvert_exporter": "python",
   "pygments_lexer": "ipython3",
   "version": "3.6.7"
  }
 },
 "nbformat": 4,
 "nbformat_minor": 2
}
