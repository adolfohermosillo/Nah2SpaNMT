{
 "cells": [
  {
   "cell_type": "markdown",
   "metadata": {},
   "source": [
    "# Machine Translation Pipeline example for LeNu"
   ]
  },
  {
   "cell_type": "markdown",
   "metadata": {},
   "source": [
    "Preprocess the data"
   ]
  },
  {
   "cell_type": "code",
   "execution_count": 2,
   "metadata": {},
   "outputs": [
    {
     "name": "stdout",
     "output_type": "stream",
     "text": [
      "[2020-05-03 03:01:52,664 INFO] Extracting features...\n",
      "[2020-05-03 03:01:52,664 INFO]  * number of source features: 0.\n",
      "[2020-05-03 03:01:52,665 INFO]  * number of target features: 0.\n",
      "[2020-05-03 03:01:52,665 INFO] Building `Fields` object...\n",
      "[2020-05-03 03:01:52,665 INFO] Building & saving training data...\n",
      "[2020-05-03 03:01:52,709 INFO] Building shard 0.\n",
      "[2020-05-03 03:01:53,157 INFO]  * saving 0th train data shard to data/LeNu.train.0.pt.\n",
      "[2020-05-03 03:01:53,708 INFO]  * tgt vocab size: 15571.\n",
      "[2020-05-03 03:01:53,752 INFO]  * src vocab size: 28734.\n",
      "[2020-05-03 03:01:53,878 INFO] Building & saving validation data...\n",
      "[2020-05-03 03:01:53,946 INFO] Building shard 0.\n",
      "[2020-05-03 03:01:53,982 INFO]  * saving 0th valid data shard to data/LeNu.valid.0.pt.\n"
     ]
    }
   ],
   "source": [
    "!onmt_preprocess -train_src data/LeNu-train-src.txt -train_tgt data/LeNu-train-tgt.txt -valid_src data/LeNu-dev-src.txt -valid_tgt data/LeNu-dev-tgt.txt -save_data data/LeNu\n"
   ]
  },
  {
   "cell_type": "markdown",
   "metadata": {},
   "source": [
    "_________\n",
    "Train the model using the root "
   ]
  },
  {
   "cell_type": "code",
   "execution_count": null,
   "metadata": {},
   "outputs": [
    {
     "name": "stdout",
     "output_type": "stream",
     "text": [
      "[2020-05-03 03:02:13,853 INFO]  * src vocab size = 28734\n",
      "[2020-05-03 03:02:13,853 INFO]  * tgt vocab size = 15571\n",
      "[2020-05-03 03:02:13,853 INFO] Building model...\n",
      "[2020-05-03 03:02:14,505 INFO] NMTModel(\n",
      "  (encoder): RNNEncoder(\n",
      "    (embeddings): Embeddings(\n",
      "      (make_embedding): Sequential(\n",
      "        (emb_luts): Elementwise(\n",
      "          (0): Embedding(28734, 500, padding_idx=1)\n",
      "        )\n",
      "      )\n",
      "    )\n",
      "    (rnn): LSTM(500, 500, num_layers=2, dropout=0.3)\n",
      "  )\n",
      "  (decoder): InputFeedRNNDecoder(\n",
      "    (embeddings): Embeddings(\n",
      "      (make_embedding): Sequential(\n",
      "        (emb_luts): Elementwise(\n",
      "          (0): Embedding(15571, 500, padding_idx=1)\n",
      "        )\n",
      "      )\n",
      "    )\n",
      "    (dropout): Dropout(p=0.3, inplace=False)\n",
      "    (rnn): StackedLSTM(\n",
      "      (dropout): Dropout(p=0.3, inplace=False)\n",
      "      (layers): ModuleList(\n",
      "        (0): LSTMCell(1000, 500)\n",
      "        (1): LSTMCell(500, 500)\n",
      "      )\n",
      "    )\n",
      "    (attn): GlobalAttention(\n",
      "      (linear_in): Linear(in_features=500, out_features=500, bias=False)\n",
      "      (linear_out): Linear(in_features=1000, out_features=500, bias=False)\n",
      "    )\n",
      "  )\n",
      "  (generator): Sequential(\n",
      "    (0): Linear(in_features=500, out_features=15571, bias=True)\n",
      "    (1): Cast()\n",
      "    (2): LogSoftmax()\n",
      "  )\n",
      ")\n",
      "[2020-05-03 03:02:14,505 INFO] encoder: 18375000\n",
      "[2020-05-03 03:02:14,506 INFO] decoder: 21344571\n",
      "[2020-05-03 03:02:14,506 INFO] * number of parameters: 39719571\n",
      "[2020-05-03 03:02:14,507 INFO] Starting training on CPU, could be very slow\n",
      "[2020-05-03 03:02:14,507 INFO] Start training loop and validate every 10000 steps...\n",
      "[2020-05-03 03:02:14,507 INFO] Loading dataset from data/LeNu.train.0.pt\n",
      "[2020-05-03 03:02:14,593 INFO] number of examples: 12222\n"
     ]
    }
   ],
   "source": [
    "!onmt_train -data data/LeNu -save_model model/LeNu"
   ]
  },
  {
   "cell_type": "markdown",
   "metadata": {},
   "source": [
    "___________\n",
    "## Translate the test set"
   ]
  },
  {
   "cell_type": "code",
   "execution_count": 20,
   "metadata": {},
   "outputs": [
    {
     "name": "stdout",
     "output_type": "stream",
     "text": [
      "!onmt_translate -model model/LeNu_step_5000.pt -src data/LeNu-test-src.txt -output predictions/LeNu_5000.txt -replace_unk\n",
      "!onmt_translate -model model/LeNu_step_10000.pt -src data/LeNu-test-src.txt -output predictions/LeNu_10000.txt -replace_unk\n",
      "!onmt_translate -model model/LeNu_step_15000.pt -src data/LeNu-test-src.txt -output predictions/LeNu_15000.txt -replace_unk\n",
      "!onmt_translate -model model/LeNu_step_20000.pt -src data/LeNu-test-src.txt -output predictions/LeNu_20000.txt -replace_unk\n",
      "!onmt_translate -model model/LeNu_step_25000.pt -src data/LeNu-test-src.txt -output predictions/LeNu_25000.txt -replace_unk\n",
      "!onmt_translate -model model/LeNu_step_30000.pt -src data/LeNu-test-src.txt -output predictions/LeNu_30000.txt -replace_unk\n",
      "!onmt_translate -model model/LeNu_step_35000.pt -src data/LeNu-test-src.txt -output predictions/LeNu_35000.txt -replace_unk\n",
      "!onmt_translate -model model/LeNu_step_40000.pt -src data/LeNu-test-src.txt -output predictions/LeNu_40000.txt -replace_unk\n",
      "!onmt_translate -model model/LeNu_step_45000.pt -src data/LeNu-test-src.txt -output predictions/LeNu_45000.txt -replace_unk\n",
      "!onmt_translate -model model/LeNu_step_50000.pt -src data/LeNu-test-src.txt -output predictions/LeNu_50000.txt -replace_unk\n",
      "!onmt_translate -model model/LeNu_step_55000.pt -src data/LeNu-test-src.txt -output predictions/LeNu_55000.txt -replace_unk\n",
      "!onmt_translate -model model/LeNu_step_60000.pt -src data/LeNu-test-src.txt -output predictions/LeNu_60000.txt -replace_unk\n",
      "!onmt_translate -model model/LeNu_step_65000.pt -src data/LeNu-test-src.txt -output predictions/LeNu_65000.txt -replace_unk\n",
      "!onmt_translate -model model/LeNu_step_70000.pt -src data/LeNu-test-src.txt -output predictions/LeNu_70000.txt -replace_unk\n",
      "!onmt_translate -model model/LeNu_step_75000.pt -src data/LeNu-test-src.txt -output predictions/LeNu_75000.txt -replace_unk\n",
      "!onmt_translate -model model/LeNu_step_80000.pt -src data/LeNu-test-src.txt -output predictions/LeNu_80000.txt -replace_unk\n",
      "!onmt_translate -model model/LeNu_step_85000.pt -src data/LeNu-test-src.txt -output predictions/LeNu_85000.txt -replace_unk\n",
      "!onmt_translate -model model/LeNu_step_90000.pt -src data/LeNu-test-src.txt -output predictions/LeNu_90000.txt -replace_unk\n",
      "!onmt_translate -model model/LeNu_step_95000.pt -src data/LeNu-test-src.txt -output predictions/LeNu_95000.txt -replace_unk\n",
      "!onmt_translate -model model/LeNu_step_100000.pt -src data/LeNu-test-src.txt -output predictions/LeNu_100000.txt -replace_unk\n"
     ]
    }
   ],
   "source": [
    "for i in range(5000,105000,5000):\n",
    "    print('!onmt_translate -model model/LeNu_step_'+str(i)+'.pt -src data/LeNu-test-src.txt -output predictions/LeNu_'+str(i)+'.txt -replace_unk')\n"
   ]
  },
  {
   "cell_type": "code",
   "execution_count": null,
   "metadata": {},
   "outputs": [],
   "source": [
    "!onmt_translate -model model/LeNu_step_5000.pt -src data/LeNu-test-src.txt -output predictions/LeNu_5000.txt -replace_unk\n",
    "!onmt_translate -model model/LeNu_step_10000.pt -src data/LeNu-test-src.txt -output predictions/LeNu_10000.txt -replace_unk\n",
    "!onmt_translate -model model/LeNu_step_15000.pt -src data/LeNu-test-src.txt -output predictions/LeNu_15000.txt -replace_unk\n",
    "!onmt_translate -model model/LeNu_step_20000.pt -src data/LeNu-test-src.txt -output predictions/LeNu_20000.txt -replace_unk\n",
    "!onmt_translate -model model/LeNu_step_25000.pt -src data/LeNu-test-src.txt -output predictions/LeNu_25000.txt -replace_unk\n",
    "!onmt_translate -model model/LeNu_step_30000.pt -src data/LeNu-test-src.txt -output predictions/LeNu_30000.txt -replace_unk\n",
    "!onmt_translate -model model/LeNu_step_35000.pt -src data/LeNu-test-src.txt -output predictions/LeNu_35000.txt -replace_unk\n",
    "!onmt_translate -model model/LeNu_step_40000.pt -src data/LeNu-test-src.txt -output predictions/LeNu_40000.txt -replace_unk\n",
    "!onmt_translate -model model/LeNu_step_45000.pt -src data/LeNu-test-src.txt -output predictions/LeNu_45000.txt -replace_unk\n",
    "!onmt_translate -model model/LeNu_step_50000.pt -src data/LeNu-test-src.txt -output predictions/LeNu_50000.txt -replace_unk\n",
    "!onmt_translate -model model/LeNu_step_55000.pt -src data/LeNu-test-src.txt -output predictions/LeNu_55000.txt -replace_unk\n",
    "!onmt_translate -model model/LeNu_step_60000.pt -src data/LeNu-test-src.txt -output predictions/LeNu_60000.txt -replace_unk\n",
    "!onmt_translate -model model/LeNu_step_65000.pt -src data/LeNu-test-src.txt -output predictions/LeNu_65000.txt -replace_unk\n",
    "!onmt_translate -model model/LeNu_step_70000.pt -src data/LeNu-test-src.txt -output predictions/LeNu_70000.txt -replace_unk\n",
    "!onmt_translate -model model/LeNu_step_75000.pt -src data/LeNu-test-src.txt -output predictions/LeNu_75000.txt -replace_unk\n",
    "!onmt_translate -model model/LeNu_step_80000.pt -src data/LeNu-test-src.txt -output predictions/LeNu_80000.txt -replace_unk\n",
    "!onmt_translate -model model/LeNu_step_85000.pt -src data/LeNu-test-src.txt -output predictions/LeNu_85000.txt -replace_unk\n",
    "!onmt_translate -model model/LeNu_step_90000.pt -src data/LeNu-test-src.txt -output predictions/LeNu_90000.txt -replace_unk\n",
    "!onmt_translate -model model/LeNu_step_95000.pt -src data/LeNu-test-src.txt -output predictions/LeNu_95000.txt -replace_unk\n",
    "!onmt_translate -model model/LeNu_step_100000.pt -src data/LeNu-test-src.txt -output predictions/LeNu_100000.txt -replace_unk\n"
   ]
  },
  {
   "cell_type": "markdown",
   "metadata": {},
   "source": [
    "____________\n",
    "## Evaluate using BLEU"
   ]
  },
  {
   "cell_type": "markdown",
   "metadata": {},
   "source": [
    "Use perl BLEU evaluation"
   ]
  },
  {
   "cell_type": "code",
   "execution_count": 26,
   "metadata": {},
   "outputs": [
    {
     "name": "stdout",
     "output_type": "stream",
     "text": [
      "!perl tools/multi-bleu.perl LeNu/data/alphanum-test-tgt.txt < LeNu/predictions/pred_5000.txt\n",
      "!perl tools/multi-bleu.perl LeNu/data/alphanum-test-tgt.txt < LeNu/predictions/pred_10000.txt\n",
      "!perl tools/multi-bleu.perl LeNu/data/alphanum-test-tgt.txt < LeNu/predictions/pred_15000.txt\n",
      "!perl tools/multi-bleu.perl LeNu/data/alphanum-test-tgt.txt < LeNu/predictions/pred_20000.txt\n",
      "!perl tools/multi-bleu.perl LeNu/data/alphanum-test-tgt.txt < LeNu/predictions/pred_25000.txt\n",
      "!perl tools/multi-bleu.perl LeNu/data/alphanum-test-tgt.txt < LeNu/predictions/pred_30000.txt\n",
      "!perl tools/multi-bleu.perl LeNu/data/alphanum-test-tgt.txt < LeNu/predictions/pred_35000.txt\n",
      "!perl tools/multi-bleu.perl LeNu/data/alphanum-test-tgt.txt < LeNu/predictions/pred_40000.txt\n",
      "!perl tools/multi-bleu.perl LeNu/data/alphanum-test-tgt.txt < LeNu/predictions/pred_45000.txt\n",
      "!perl tools/multi-bleu.perl LeNu/data/alphanum-test-tgt.txt < LeNu/predictions/pred_50000.txt\n",
      "!perl tools/multi-bleu.perl LeNu/data/alphanum-test-tgt.txt < LeNu/predictions/pred_55000.txt\n",
      "!perl tools/multi-bleu.perl LeNu/data/alphanum-test-tgt.txt < LeNu/predictions/pred_60000.txt\n",
      "!perl tools/multi-bleu.perl LeNu/data/alphanum-test-tgt.txt < LeNu/predictions/pred_65000.txt\n",
      "!perl tools/multi-bleu.perl LeNu/data/alphanum-test-tgt.txt < LeNu/predictions/pred_70000.txt\n",
      "!perl tools/multi-bleu.perl LeNu/data/alphanum-test-tgt.txt < LeNu/predictions/pred_75000.txt\n",
      "!perl tools/multi-bleu.perl LeNu/data/alphanum-test-tgt.txt < LeNu/predictions/pred_80000.txt\n",
      "!perl tools/multi-bleu.perl LeNu/data/alphanum-test-tgt.txt < LeNu/predictions/pred_85000.txt\n",
      "!perl tools/multi-bleu.perl LeNu/data/alphanum-test-tgt.txt < LeNu/predictions/pred_90000.txt\n",
      "!perl tools/multi-bleu.perl LeNu/data/alphanum-test-tgt.txt < LeNu/predictions/pred_95000.txt\n",
      "!perl tools/multi-bleu.perl LeNu/data/alphanum-test-tgt.txt < LeNu/predictions/pred_100000.txt\n"
     ]
    }
   ],
   "source": [
    "for i in range(5000,105000,5000):\n",
    "    print('!perl tools/multi-bleu.perl LeNu/data/alphanum-test-tgt.txt < LeNu/predictions/pred_'+str(i)+'.txt')\n",
    "    "
   ]
  },
  {
   "cell_type": "code",
   "execution_count": 27,
   "metadata": {},
   "outputs": [
    {
     "name": "stdout",
     "output_type": "stream",
     "text": [
      "BLEU = 4.62, 23.6/6.2/2.8/1.7 (BP=0.905, ratio=0.910, hyp_len=38415, ref_len=42236)\n",
      "BLEU = 6.07, 33.8/11.4/5.9/3.5 (BP=0.644, ratio=0.694, hyp_len=29314, ref_len=42236)\n",
      "BLEU = 6.91, 35.3/12.7/6.6/4.1 (BP=0.655, ratio=0.703, hyp_len=29693, ref_len=42236)\n",
      "BLEU = 6.35, 39.5/15.2/8.4/5.3 (BP=0.498, ratio=0.589, hyp_len=24875, ref_len=42236)\n",
      "BLEU = 8.13, 37.4/13.8/7.3/4.5 (BP=0.711, ratio=0.745, hyp_len=31481, ref_len=42236)\n",
      "BLEU = 7.66, 38.1/14.2/7.7/4.8 (BP=0.646, ratio=0.696, hyp_len=29400, ref_len=42236)\n",
      "BLEU = 7.44, 39.8/15.3/8.4/5.3 (BP=0.580, ratio=0.648, hyp_len=27351, ref_len=42236)\n",
      "BLEU = 7.59, 40.2/15.6/8.5/5.3 (BP=0.585, ratio=0.651, hyp_len=27509, ref_len=42236)\n",
      "BLEU = 6.89, 40.9/16.7/9.5/6.1 (BP=0.489, ratio=0.583, hyp_len=24611, ref_len=42236)\n",
      "BLEU = 7.31, 40.7/16.1/8.9/5.7 (BP=0.541, ratio=0.620, hyp_len=26176, ref_len=42236)\n",
      "BLEU = 8.11, 40.2/15.9/8.8/5.5 (BP=0.613, ratio=0.671, hyp_len=28346, ref_len=42236)\n",
      "BLEU = 7.93, 41.1/16.7/9.5/6.0 (BP=0.563, ratio=0.635, hyp_len=26830, ref_len=42236)\n",
      "BLEU = 8.16, 41.7/17.0/9.5/6.1 (BP=0.574, ratio=0.643, hyp_len=27149, ref_len=42236)\n",
      "BLEU = 8.21, 41.7/17.2/9.7/6.3 (BP=0.568, ratio=0.638, hyp_len=26967, ref_len=42236)\n",
      "BLEU = 7.95, 41.9/17.1/9.7/6.2 (BP=0.552, ratio=0.627, hyp_len=26488, ref_len=42236)\n",
      "BLEU = 8.20, 41.7/17.1/9.7/6.2 (BP=0.572, ratio=0.641, hyp_len=27084, ref_len=42236)\n",
      "BLEU = 8.11, 41.9/17.2/9.7/6.2 (BP=0.563, ratio=0.635, hyp_len=26817, ref_len=42236)\n",
      "BLEU = 8.29, 41.9/17.4/10.0/6.4 (BP=0.565, ratio=0.636, hyp_len=26879, ref_len=42236)\n",
      "BLEU = 8.23, 41.9/17.3/9.8/6.3 (BP=0.566, ratio=0.637, hyp_len=26916, ref_len=42236)\n",
      "BLEU = 8.21, 41.8/17.1/9.7/6.2 (BP=0.570, ratio=0.640, hyp_len=27030, ref_len=42236)\n"
     ]
    }
   ],
   "source": [
    "!perl tools/multi-bleu.perl LeNu/data/alphanum-test-tgt.txt < LeNu/predictions/pred_5000.txt\n",
    "!perl tools/multi-bleu.perl LeNu/data/alphanum-test-tgt.txt < LeNu/predictions/pred_10000.txt\n",
    "!perl tools/multi-bleu.perl LeNu/data/alphanum-test-tgt.txt < LeNu/predictions/pred_15000.txt\n",
    "!perl tools/multi-bleu.perl LeNu/data/alphanum-test-tgt.txt < LeNu/predictions/pred_20000.txt\n",
    "!perl tools/multi-bleu.perl LeNu/data/alphanum-test-tgt.txt < LeNu/predictions/pred_25000.txt\n",
    "!perl tools/multi-bleu.perl LeNu/data/alphanum-test-tgt.txt < LeNu/predictions/pred_30000.txt\n",
    "!perl tools/multi-bleu.perl LeNu/data/alphanum-test-tgt.txt < LeNu/predictions/pred_35000.txt\n",
    "!perl tools/multi-bleu.perl LeNu/data/alphanum-test-tgt.txt < LeNu/predictions/pred_40000.txt\n",
    "!perl tools/multi-bleu.perl LeNu/data/alphanum-test-tgt.txt < LeNu/predictions/pred_45000.txt\n",
    "!perl tools/multi-bleu.perl LeNu/data/alphanum-test-tgt.txt < LeNu/predictions/pred_50000.txt\n",
    "!perl tools/multi-bleu.perl LeNu/data/alphanum-test-tgt.txt < LeNu/predictions/pred_55000.txt\n",
    "!perl tools/multi-bleu.perl LeNu/data/alphanum-test-tgt.txt < LeNu/predictions/pred_60000.txt\n",
    "!perl tools/multi-bleu.perl LeNu/data/alphanum-test-tgt.txt < LeNu/predictions/pred_65000.txt\n",
    "!perl tools/multi-bleu.perl LeNu/data/alphanum-test-tgt.txt < LeNu/predictions/pred_70000.txt\n",
    "!perl tools/multi-bleu.perl LeNu/data/alphanum-test-tgt.txt < LeNu/predictions/pred_75000.txt\n",
    "!perl tools/multi-bleu.perl LeNu/data/alphanum-test-tgt.txt < LeNu/predictions/pred_80000.txt\n",
    "!perl tools/multi-bleu.perl LeNu/data/alphanum-test-tgt.txt < LeNu/predictions/pred_85000.txt\n",
    "!perl tools/multi-bleu.perl LeNu/data/alphanum-test-tgt.txt < LeNu/predictions/pred_90000.txt\n",
    "!perl tools/multi-bleu.perl LeNu/data/alphanum-test-tgt.txt < LeNu/predictions/pred_95000.txt\n",
    "!perl tools/multi-bleu.perl LeNu/data/alphanum-test-tgt.txt < LeNu/predictions/pred_100000.txt"
   ]
  }
 ],
 "metadata": {
  "kernelspec": {
   "display_name": "Python 3",
   "language": "python",
   "name": "python3"
  },
  "language_info": {
   "codemirror_mode": {
    "name": "ipython",
    "version": 3
   },
   "file_extension": ".py",
   "mimetype": "text/x-python",
   "name": "python",
   "nbconvert_exporter": "python",
   "pygments_lexer": "ipython3",
   "version": "3.7.6"
  }
 },
 "nbformat": 4,
 "nbformat_minor": 4
}
