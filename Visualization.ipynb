{
 "cells": [
  {
   "cell_type": "code",
   "execution_count": 1,
   "metadata": {},
   "outputs": [
    {
     "name": "stdout",
     "output_type": "stream",
     "text": [
      "!perl tools/multi-bleu.perl tk_alphanumeric/data/alphanum-test-tgt.txt < tk_alphanumeric/predictions/pred_5000.txt\n",
      "!perl tools/multi-bleu.perl tk_alphanumeric/data/alphanum-test-tgt.txt < tk_alphanumeric/predictions/pred_10000.txt\n",
      "!perl tools/multi-bleu.perl tk_alphanumeric/data/alphanum-test-tgt.txt < tk_alphanumeric/predictions/pred_15000.txt\n",
      "!perl tools/multi-bleu.perl tk_alphanumeric/data/alphanum-test-tgt.txt < tk_alphanumeric/predictions/pred_20000.txt\n",
      "!perl tools/multi-bleu.perl tk_alphanumeric/data/alphanum-test-tgt.txt < tk_alphanumeric/predictions/pred_25000.txt\n",
      "!perl tools/multi-bleu.perl tk_alphanumeric/data/alphanum-test-tgt.txt < tk_alphanumeric/predictions/pred_30000.txt\n",
      "!perl tools/multi-bleu.perl tk_alphanumeric/data/alphanum-test-tgt.txt < tk_alphanumeric/predictions/pred_35000.txt\n",
      "!perl tools/multi-bleu.perl tk_alphanumeric/data/alphanum-test-tgt.txt < tk_alphanumeric/predictions/pred_40000.txt\n",
      "!perl tools/multi-bleu.perl tk_alphanumeric/data/alphanum-test-tgt.txt < tk_alphanumeric/predictions/pred_45000.txt\n",
      "!perl tools/multi-bleu.perl tk_alphanumeric/data/alphanum-test-tgt.txt < tk_alphanumeric/predictions/pred_50000.txt\n",
      "!perl tools/multi-bleu.perl tk_alphanumeric/data/alphanum-test-tgt.txt < tk_alphanumeric/predictions/pred_55000.txt\n",
      "!perl tools/multi-bleu.perl tk_alphanumeric/data/alphanum-test-tgt.txt < tk_alphanumeric/predictions/pred_60000.txt\n",
      "!perl tools/multi-bleu.perl tk_alphanumeric/data/alphanum-test-tgt.txt < tk_alphanumeric/predictions/pred_65000.txt\n",
      "!perl tools/multi-bleu.perl tk_alphanumeric/data/alphanum-test-tgt.txt < tk_alphanumeric/predictions/pred_70000.txt\n",
      "!perl tools/multi-bleu.perl tk_alphanumeric/data/alphanum-test-tgt.txt < tk_alphanumeric/predictions/pred_75000.txt\n",
      "!perl tools/multi-bleu.perl tk_alphanumeric/data/alphanum-test-tgt.txt < tk_alphanumeric/predictions/pred_80000.txt\n",
      "!perl tools/multi-bleu.perl tk_alphanumeric/data/alphanum-test-tgt.txt < tk_alphanumeric/predictions/pred_85000.txt\n",
      "!perl tools/multi-bleu.perl tk_alphanumeric/data/alphanum-test-tgt.txt < tk_alphanumeric/predictions/pred_90000.txt\n",
      "!perl tools/multi-bleu.perl tk_alphanumeric/data/alphanum-test-tgt.txt < tk_alphanumeric/predictions/pred_95000.txt\n",
      "!perl tools/multi-bleu.perl tk_alphanumeric/data/alphanum-test-tgt.txt < tk_alphanumeric/predictions/pred_100000.txt\n"
     ]
    }
   ],
   "source": [
    "for i in range(5000,105000,5000):\n",
    "    print('!perl tools/multi-bleu.perl tk_alphanumeric/data/alphanum-test-tgt.txt < tk_alphanumeric/predictions/pred_'+str(i)+'.txt')\n",
    "    "
   ]
  },
  {
   "cell_type": "code",
   "execution_count": 3,
   "metadata": {},
   "outputs": [
    {
     "name": "stdout",
     "output_type": "stream",
     "text": [
      "BLEU = 4.62, 23.6/6.2/2.8/1.7 (BP=0.905, ratio=0.910, hyp_len=38415, ref_len=42236)\n",
      "BLEU = 6.07, 33.8/11.4/5.9/3.5 (BP=0.644, ratio=0.694, hyp_len=29314, ref_len=42236)\n",
      "BLEU = 6.91, 35.3/12.7/6.6/4.1 (BP=0.655, ratio=0.703, hyp_len=29693, ref_len=42236)\n",
      "BLEU = 6.35, 39.5/15.2/8.4/5.3 (BP=0.498, ratio=0.589, hyp_len=24875, ref_len=42236)\n",
      "BLEU = 8.13, 37.4/13.8/7.3/4.5 (BP=0.711, ratio=0.745, hyp_len=31481, ref_len=42236)\n",
      "BLEU = 7.66, 38.1/14.2/7.7/4.8 (BP=0.646, ratio=0.696, hyp_len=29400, ref_len=42236)\n",
      "BLEU = 7.44, 39.8/15.3/8.4/5.3 (BP=0.580, ratio=0.648, hyp_len=27351, ref_len=42236)\n",
      "BLEU = 7.59, 40.2/15.6/8.5/5.3 (BP=0.585, ratio=0.651, hyp_len=27509, ref_len=42236)\n",
      "BLEU = 6.89, 40.9/16.7/9.5/6.1 (BP=0.489, ratio=0.583, hyp_len=24611, ref_len=42236)\n",
      "BLEU = 7.31, 40.7/16.1/8.9/5.7 (BP=0.541, ratio=0.620, hyp_len=26176, ref_len=42236)\n",
      "BLEU = 8.11, 40.2/15.9/8.8/5.5 (BP=0.613, ratio=0.671, hyp_len=28346, ref_len=42236)\n",
      "BLEU = 7.93, 41.1/16.7/9.5/6.0 (BP=0.563, ratio=0.635, hyp_len=26830, ref_len=42236)\n",
      "BLEU = 8.16, 41.7/17.0/9.5/6.1 (BP=0.574, ratio=0.643, hyp_len=27149, ref_len=42236)\n",
      "BLEU = 8.21, 41.7/17.2/9.7/6.3 (BP=0.568, ratio=0.638, hyp_len=26967, ref_len=42236)\n",
      "BLEU = 7.95, 41.9/17.1/9.7/6.2 (BP=0.552, ratio=0.627, hyp_len=26488, ref_len=42236)\n",
      "BLEU = 8.20, 41.7/17.1/9.7/6.2 (BP=0.572, ratio=0.641, hyp_len=27084, ref_len=42236)\n",
      "BLEU = 8.11, 41.9/17.2/9.7/6.2 (BP=0.563, ratio=0.635, hyp_len=26817, ref_len=42236)\n",
      "BLEU = 8.29, 41.9/17.4/10.0/6.4 (BP=0.565, ratio=0.636, hyp_len=26879, ref_len=42236)\n",
      "BLEU = 8.23, 41.9/17.3/9.8/6.3 (BP=0.566, ratio=0.637, hyp_len=26916, ref_len=42236)\n",
      "BLEU = 8.21, 41.8/17.1/9.7/6.2 (BP=0.570, ratio=0.640, hyp_len=27030, ref_len=42236)\n"
     ]
    }
   ],
   "source": [
    "!perl tools/multi-bleu.perl tk_alphanumeric/data/alphanum-test-tgt.txt < tk_alphanumeric/predictions/pred_5000.txt\n",
    "!perl tools/multi-bleu.perl tk_alphanumeric/data/alphanum-test-tgt.txt < tk_alphanumeric/predictions/pred_10000.txt\n",
    "!perl tools/multi-bleu.perl tk_alphanumeric/data/alphanum-test-tgt.txt < tk_alphanumeric/predictions/pred_15000.txt\n",
    "!perl tools/multi-bleu.perl tk_alphanumeric/data/alphanum-test-tgt.txt < tk_alphanumeric/predictions/pred_20000.txt\n",
    "!perl tools/multi-bleu.perl tk_alphanumeric/data/alphanum-test-tgt.txt < tk_alphanumeric/predictions/pred_25000.txt\n",
    "!perl tools/multi-bleu.perl tk_alphanumeric/data/alphanum-test-tgt.txt < tk_alphanumeric/predictions/pred_30000.txt\n",
    "!perl tools/multi-bleu.perl tk_alphanumeric/data/alphanum-test-tgt.txt < tk_alphanumeric/predictions/pred_35000.txt\n",
    "!perl tools/multi-bleu.perl tk_alphanumeric/data/alphanum-test-tgt.txt < tk_alphanumeric/predictions/pred_40000.txt\n",
    "!perl tools/multi-bleu.perl tk_alphanumeric/data/alphanum-test-tgt.txt < tk_alphanumeric/predictions/pred_45000.txt\n",
    "!perl tools/multi-bleu.perl tk_alphanumeric/data/alphanum-test-tgt.txt < tk_alphanumeric/predictions/pred_50000.txt\n",
    "!perl tools/multi-bleu.perl tk_alphanumeric/data/alphanum-test-tgt.txt < tk_alphanumeric/predictions/pred_55000.txt\n",
    "!perl tools/multi-bleu.perl tk_alphanumeric/data/alphanum-test-tgt.txt < tk_alphanumeric/predictions/pred_60000.txt\n",
    "!perl tools/multi-bleu.perl tk_alphanumeric/data/alphanum-test-tgt.txt < tk_alphanumeric/predictions/pred_65000.txt\n",
    "!perl tools/multi-bleu.perl tk_alphanumeric/data/alphanum-test-tgt.txt < tk_alphanumeric/predictions/pred_70000.txt\n",
    "!perl tools/multi-bleu.perl tk_alphanumeric/data/alphanum-test-tgt.txt < tk_alphanumeric/predictions/pred_75000.txt\n",
    "!perl tools/multi-bleu.perl tk_alphanumeric/data/alphanum-test-tgt.txt < tk_alphanumeric/predictions/pred_80000.txt\n",
    "!perl tools/multi-bleu.perl tk_alphanumeric/data/alphanum-test-tgt.txt < tk_alphanumeric/predictions/pred_85000.txt\n",
    "!perl tools/multi-bleu.perl tk_alphanumeric/data/alphanum-test-tgt.txt < tk_alphanumeric/predictions/pred_90000.txt\n",
    "!perl tools/multi-bleu.perl tk_alphanumeric/data/alphanum-test-tgt.txt < tk_alphanumeric/predictions/pred_95000.txt\n",
    "!perl tools/multi-bleu.perl tk_alphanumeric/data/alphanum-test-tgt.txt < tk_alphanumeric/predictions/pred_100000.txt"
   ]
  },
  {
   "cell_type": "code",
   "execution_count": 4,
   "metadata": {},
   "outputs": [
    {
     "name": "stdout",
     "output_type": "stream",
     "text": [
      "!perl tools/multi-bleu.perl LeNu+MS/data/LeNu+MS-test-tgt.txt < LeNu+MS/predictions/LeNu+MS-5000.txt\n",
      "!perl tools/multi-bleu.perl LeNu+MS/data/LeNu+MS-test-tgt.txt < LeNu+MS/predictions/LeNu+MS-10000.txt\n",
      "!perl tools/multi-bleu.perl LeNu+MS/data/LeNu+MS-test-tgt.txt < LeNu+MS/predictions/LeNu+MS-15000.txt\n",
      "!perl tools/multi-bleu.perl LeNu+MS/data/LeNu+MS-test-tgt.txt < LeNu+MS/predictions/LeNu+MS-20000.txt\n",
      "!perl tools/multi-bleu.perl LeNu+MS/data/LeNu+MS-test-tgt.txt < LeNu+MS/predictions/LeNu+MS-25000.txt\n",
      "!perl tools/multi-bleu.perl LeNu+MS/data/LeNu+MS-test-tgt.txt < LeNu+MS/predictions/LeNu+MS-30000.txt\n",
      "!perl tools/multi-bleu.perl LeNu+MS/data/LeNu+MS-test-tgt.txt < LeNu+MS/predictions/LeNu+MS-35000.txt\n",
      "!perl tools/multi-bleu.perl LeNu+MS/data/LeNu+MS-test-tgt.txt < LeNu+MS/predictions/LeNu+MS-40000.txt\n",
      "!perl tools/multi-bleu.perl LeNu+MS/data/LeNu+MS-test-tgt.txt < LeNu+MS/predictions/LeNu+MS-45000.txt\n",
      "!perl tools/multi-bleu.perl LeNu+MS/data/LeNu+MS-test-tgt.txt < LeNu+MS/predictions/LeNu+MS-50000.txt\n",
      "!perl tools/multi-bleu.perl LeNu+MS/data/LeNu+MS-test-tgt.txt < LeNu+MS/predictions/LeNu+MS-55000.txt\n",
      "!perl tools/multi-bleu.perl LeNu+MS/data/LeNu+MS-test-tgt.txt < LeNu+MS/predictions/LeNu+MS-60000.txt\n",
      "!perl tools/multi-bleu.perl LeNu+MS/data/LeNu+MS-test-tgt.txt < LeNu+MS/predictions/LeNu+MS-65000.txt\n",
      "!perl tools/multi-bleu.perl LeNu+MS/data/LeNu+MS-test-tgt.txt < LeNu+MS/predictions/LeNu+MS-70000.txt\n",
      "!perl tools/multi-bleu.perl LeNu+MS/data/LeNu+MS-test-tgt.txt < LeNu+MS/predictions/LeNu+MS-75000.txt\n",
      "!perl tools/multi-bleu.perl LeNu+MS/data/LeNu+MS-test-tgt.txt < LeNu+MS/predictions/LeNu+MS-80000.txt\n",
      "!perl tools/multi-bleu.perl LeNu+MS/data/LeNu+MS-test-tgt.txt < LeNu+MS/predictions/LeNu+MS-85000.txt\n",
      "!perl tools/multi-bleu.perl LeNu+MS/data/LeNu+MS-test-tgt.txt < LeNu+MS/predictions/LeNu+MS-90000.txt\n",
      "!perl tools/multi-bleu.perl LeNu+MS/data/LeNu+MS-test-tgt.txt < LeNu+MS/predictions/LeNu+MS-95000.txt\n",
      "!perl tools/multi-bleu.perl LeNu+MS/data/LeNu+MS-test-tgt.txt < LeNu+MS/predictions/LeNu+MS-100000.txt\n"
     ]
    }
   ],
   "source": [
    "for i in range(5000,105000,5000):\n",
    "    print('!perl tools/multi-bleu.perl LeNu+MS/data/LeNu+MS-test-tgt.txt < LeNu+MS/predictions/LeNu+MS-'+str(i)+'.txt')\n",
    "    "
   ]
  },
  {
   "cell_type": "code",
   "execution_count": 6,
   "metadata": {},
   "outputs": [
    {
     "name": "stdout",
     "output_type": "stream",
     "text": [
      "BLEU = 3.70, 24.2/6.1/2.7/1.5 (BP=0.745, ratio=0.773, hyp_len=32635, ref_len=42236)\n",
      "BLEU = 3.69, 28.7/8.0/3.9/2.4 (BP=0.542, ratio=0.620, hyp_len=26202, ref_len=42236)\n",
      "BLEU = 3.55, 30.2/8.8/4.4/2.7 (BP=0.473, ratio=0.572, hyp_len=24139, ref_len=42236)\n",
      "BLEU = 3.95, 29.5/8.4/4.1/2.4 (BP=0.558, ratio=0.632, hyp_len=26688, ref_len=42236)\n",
      "BLEU = 4.10, 29.5/8.0/3.8/2.3 (BP=0.611, ratio=0.670, hyp_len=28301, ref_len=42236)\n",
      "BLEU = 4.01, 30.2/8.3/4.0/2.4 (BP=0.575, ratio=0.644, hyp_len=27192, ref_len=42236)\n",
      "BLEU = 3.64, 31.7/9.3/4.6/2.8 (BP=0.464, ratio=0.565, hyp_len=23877, ref_len=42236)\n",
      "BLEU = 4.20, 30.3/8.6/4.0/2.4 (BP=0.591, ratio=0.656, hyp_len=27688, ref_len=42236)\n",
      "BLEU = 4.04, 30.8/8.9/4.4/2.7 (BP=0.536, ratio=0.616, hyp_len=26027, ref_len=42236)\n",
      "BLEU = 3.86, 31.1/8.9/4.4/2.7 (BP=0.509, ratio=0.597, hyp_len=25206, ref_len=42236)\n",
      "BLEU = 4.07, 31.3/9.1/4.5/2.7 (BP=0.532, ratio=0.613, hyp_len=25900, ref_len=42236)\n",
      "BLEU = 4.05, 31.3/9.1/4.6/2.9 (BP=0.518, ratio=0.603, hyp_len=25481, ref_len=42236)\n",
      "BLEU = 4.17, 31.5/9.3/4.6/2.8 (BP=0.533, ratio=0.613, hyp_len=25910, ref_len=42236)\n",
      "BLEU = 4.13, 31.4/9.3/4.7/2.8 (BP=0.525, ratio=0.608, hyp_len=25680, ref_len=42236)\n",
      "BLEU = 4.15, 31.8/9.5/4.7/2.8 (BP=0.521, ratio=0.605, hyp_len=25561, ref_len=42236)\n",
      "BLEU = 4.15, 31.4/9.1/4.5/2.7 (BP=0.543, ratio=0.621, hyp_len=26230, ref_len=42236)\n",
      "BLEU = 4.06, 31.5/9.2/4.6/2.7 (BP=0.524, ratio=0.607, hyp_len=25645, ref_len=42236)\n",
      "BLEU = 4.10, 31.4/9.3/4.6/2.8 (BP=0.525, ratio=0.608, hyp_len=25690, ref_len=42236)\n",
      "BLEU = 4.11, 31.5/9.2/4.6/2.7 (BP=0.529, ratio=0.611, hyp_len=25805, ref_len=42236)\n",
      "BLEU = 4.14, 31.5/9.1/4.6/2.7 (BP=0.537, ratio=0.617, hyp_len=26052, ref_len=42236)\n"
     ]
    }
   ],
   "source": [
    "!perl tools/multi-bleu.perl LeNu+MS/data/LeNu+MS-test-tgt.txt < LeNu+MS/predictions/LeNu+MS-5000.txt\n",
    "!perl tools/multi-bleu.perl LeNu+MS/data/LeNu+MS-test-tgt.txt < LeNu+MS/predictions/LeNu+MS-10000.txt\n",
    "!perl tools/multi-bleu.perl LeNu+MS/data/LeNu+MS-test-tgt.txt < LeNu+MS/predictions/LeNu+MS-15000.txt\n",
    "!perl tools/multi-bleu.perl LeNu+MS/data/LeNu+MS-test-tgt.txt < LeNu+MS/predictions/LeNu+MS-20000.txt\n",
    "!perl tools/multi-bleu.perl LeNu+MS/data/LeNu+MS-test-tgt.txt < LeNu+MS/predictions/LeNu+MS-25000.txt\n",
    "!perl tools/multi-bleu.perl LeNu+MS/data/LeNu+MS-test-tgt.txt < LeNu+MS/predictions/LeNu+MS-30000.txt\n",
    "!perl tools/multi-bleu.perl LeNu+MS/data/LeNu+MS-test-tgt.txt < LeNu+MS/predictions/LeNu+MS-35000.txt\n",
    "!perl tools/multi-bleu.perl LeNu+MS/data/LeNu+MS-test-tgt.txt < LeNu+MS/predictions/LeNu+MS-40000.txt\n",
    "!perl tools/multi-bleu.perl LeNu+MS/data/LeNu+MS-test-tgt.txt < LeNu+MS/predictions/LeNu+MS-45000.txt\n",
    "!perl tools/multi-bleu.perl LeNu+MS/data/LeNu+MS-test-tgt.txt < LeNu+MS/predictions/LeNu+MS-50000.txt\n",
    "!perl tools/multi-bleu.perl LeNu+MS/data/LeNu+MS-test-tgt.txt < LeNu+MS/predictions/LeNu+MS-55000.txt\n",
    "!perl tools/multi-bleu.perl LeNu+MS/data/LeNu+MS-test-tgt.txt < LeNu+MS/predictions/LeNu+MS-60000.txt\n",
    "!perl tools/multi-bleu.perl LeNu+MS/data/LeNu+MS-test-tgt.txt < LeNu+MS/predictions/LeNu+MS-65000.txt\n",
    "!perl tools/multi-bleu.perl LeNu+MS/data/LeNu+MS-test-tgt.txt < LeNu+MS/predictions/LeNu+MS-70000.txt\n",
    "!perl tools/multi-bleu.perl LeNu+MS/data/LeNu+MS-test-tgt.txt < LeNu+MS/predictions/LeNu+MS-75000.txt\n",
    "!perl tools/multi-bleu.perl LeNu+MS/data/LeNu+MS-test-tgt.txt < LeNu+MS/predictions/LeNu+MS-80000.txt\n",
    "!perl tools/multi-bleu.perl LeNu+MS/data/LeNu+MS-test-tgt.txt < LeNu+MS/predictions/LeNu+MS-85000.txt\n",
    "!perl tools/multi-bleu.perl LeNu+MS/data/LeNu+MS-test-tgt.txt < LeNu+MS/predictions/LeNu+MS-90000.txt\n",
    "!perl tools/multi-bleu.perl LeNu+MS/data/LeNu+MS-test-tgt.txt < LeNu+MS/predictions/LeNu+MS-95000.txt\n",
    "!perl tools/multi-bleu.perl LeNu+MS/data/LeNu+MS-test-tgt.txt < LeNu+MS/predictions/LeNu+MS-100000.txt"
   ]
  },
  {
   "cell_type": "code",
   "execution_count": 2,
   "metadata": {},
   "outputs": [],
   "source": [
    "lenu = \"\"\"BLEU = 4.62, 23.6/6.2/2.8/1.7 (BP=0.905, ratio=0.910, hyp_len=38415, ref_len=42236)\n",
    "BLEU = 6.07, 33.8/11.4/5.9/3.5 (BP=0.644, ratio=0.694, hyp_len=29314, ref_len=42236)\n",
    "BLEU = 6.91, 35.3/12.7/6.6/4.1 (BP=0.655, ratio=0.703, hyp_len=29693, ref_len=42236)\n",
    "BLEU = 6.35, 39.5/15.2/8.4/5.3 (BP=0.498, ratio=0.589, hyp_len=24875, ref_len=42236)\n",
    "BLEU = 8.13, 37.4/13.8/7.3/4.5 (BP=0.711, ratio=0.745, hyp_len=31481, ref_len=42236)\n",
    "BLEU = 7.66, 38.1/14.2/7.7/4.8 (BP=0.646, ratio=0.696, hyp_len=29400, ref_len=42236)\n",
    "BLEU = 7.44, 39.8/15.3/8.4/5.3 (BP=0.580, ratio=0.648, hyp_len=27351, ref_len=42236)\n",
    "BLEU = 7.59, 40.2/15.6/8.5/5.3 (BP=0.585, ratio=0.651, hyp_len=27509, ref_len=42236)\n",
    "BLEU = 6.89, 40.9/16.7/9.5/6.1 (BP=0.489, ratio=0.583, hyp_len=24611, ref_len=42236)\n",
    "BLEU = 7.31, 40.7/16.1/8.9/5.7 (BP=0.541, ratio=0.620, hyp_len=26176, ref_len=42236)\n",
    "BLEU = 8.11, 40.2/15.9/8.8/5.5 (BP=0.613, ratio=0.671, hyp_len=28346, ref_len=42236)\n",
    "BLEU = 7.93, 41.1/16.7/9.5/6.0 (BP=0.563, ratio=0.635, hyp_len=26830, ref_len=42236)\n",
    "BLEU = 8.16, 41.7/17.0/9.5/6.1 (BP=0.574, ratio=0.643, hyp_len=27149, ref_len=42236)\n",
    "BLEU = 8.21, 41.7/17.2/9.7/6.3 (BP=0.568, ratio=0.638, hyp_len=26967, ref_len=42236)\n",
    "BLEU = 7.95, 41.9/17.1/9.7/6.2 (BP=0.552, ratio=0.627, hyp_len=26488, ref_len=42236)\n",
    "BLEU = 8.20, 41.7/17.1/9.7/6.2 (BP=0.572, ratio=0.641, hyp_len=27084, ref_len=42236)\n",
    "BLEU = 8.11, 41.9/17.2/9.7/6.2 (BP=0.563, ratio=0.635, hyp_len=26817, ref_len=42236)\n",
    "BLEU = 8.29, 41.9/17.4/10.0/6.4 (BP=0.565, ratio=0.636, hyp_len=26879, ref_len=42236)\n",
    "BLEU = 8.23, 41.9/17.3/9.8/6.3 (BP=0.566, ratio=0.637, hyp_len=26916, ref_len=42236)\n",
    "BLEU = 8.21, 41.8/17.1/9.7/6.2 (BP=0.570, ratio=0.640, hyp_len=27030, ref_len=42236)\"\"\".split('\\n')\n",
    "lenum = \"\"\"BLEU = 3.70, 24.2/6.1/2.7/1.5 (BP=0.745, ratio=0.773, hyp_len=32635, ref_len=42236)\n",
    "BLEU = 3.69, 28.7/8.0/3.9/2.4 (BP=0.542, ratio=0.620, hyp_len=26202, ref_len=42236)\n",
    "BLEU = 3.55, 30.2/8.8/4.4/2.7 (BP=0.473, ratio=0.572, hyp_len=24139, ref_len=42236)\n",
    "BLEU = 3.95, 29.5/8.4/4.1/2.4 (BP=0.558, ratio=0.632, hyp_len=26688, ref_len=42236)\n",
    "BLEU = 4.10, 29.5/8.0/3.8/2.3 (BP=0.611, ratio=0.670, hyp_len=28301, ref_len=42236)\n",
    "BLEU = 4.01, 30.2/8.3/4.0/2.4 (BP=0.575, ratio=0.644, hyp_len=27192, ref_len=42236)\n",
    "BLEU = 3.64, 31.7/9.3/4.6/2.8 (BP=0.464, ratio=0.565, hyp_len=23877, ref_len=42236)\n",
    "BLEU = 4.20, 30.3/8.6/4.0/2.4 (BP=0.591, ratio=0.656, hyp_len=27688, ref_len=42236)\n",
    "BLEU = 4.04, 30.8/8.9/4.4/2.7 (BP=0.536, ratio=0.616, hyp_len=26027, ref_len=42236)\n",
    "BLEU = 3.86, 31.1/8.9/4.4/2.7 (BP=0.509, ratio=0.597, hyp_len=25206, ref_len=42236)\n",
    "BLEU = 4.07, 31.3/9.1/4.5/2.7 (BP=0.532, ratio=0.613, hyp_len=25900, ref_len=42236)\n",
    "BLEU = 4.05, 31.3/9.1/4.6/2.9 (BP=0.518, ratio=0.603, hyp_len=25481, ref_len=42236)\n",
    "BLEU = 4.17, 31.5/9.3/4.6/2.8 (BP=0.533, ratio=0.613, hyp_len=25910, ref_len=42236)\n",
    "BLEU = 4.13, 31.4/9.3/4.7/2.8 (BP=0.525, ratio=0.608, hyp_len=25680, ref_len=42236)\n",
    "BLEU = 4.15, 31.8/9.5/4.7/2.8 (BP=0.521, ratio=0.605, hyp_len=25561, ref_len=42236)\n",
    "BLEU = 4.15, 31.4/9.1/4.5/2.7 (BP=0.543, ratio=0.621, hyp_len=26230, ref_len=42236)\n",
    "BLEU = 4.06, 31.5/9.2/4.6/2.7 (BP=0.524, ratio=0.607, hyp_len=25645, ref_len=42236)\n",
    "BLEU = 4.10, 31.4/9.3/4.6/2.8 (BP=0.525, ratio=0.608, hyp_len=25690, ref_len=42236)\n",
    "BLEU = 4.11, 31.5/9.2/4.6/2.7 (BP=0.529, ratio=0.611, hyp_len=25805, ref_len=42236)\n",
    "BLEU = 4.14, 31.5/9.1/4.6/2.7 (BP=0.537, ratio=0.617, hyp_len=26052, ref_len=42236)\"\"\".split('\\n')\n",
    "lenupm=\"\"\"BLEU = 5.56, 33.1/8.7/4.1/2.3 (BP=0.769, ratio=0.792, hyp_len=37772, ref_len=47699)\n",
    "BLEU = 6.05, 38.8/11.4/5.7/3.3 (BP=0.633, ratio=0.686, hyp_len=32739, ref_len=47699)\n",
    "BLEU = 5.26, 42.5/13.4/6.8/4.1 (BP=0.469, ratio=0.569, hyp_len=27135, ref_len=47699)\n",
    "BLEU = 6.42, 41.5/12.9/6.6/3.9 (BP=0.594, ratio=0.657, hyp_len=31348, ref_len=47699)\n",
    "BLEU = 6.71, 42.0/13.4/6.8/4.2 (BP=0.596, ratio=0.659, hyp_len=31439, ref_len=47699)\n",
    "BLEU = 6.42, 43.4/14.0/7.2/4.3 (BP=0.548, ratio=0.624, hyp_len=29778, ref_len=47699)\n",
    "BLEU = 6.55, 42.9/13.6/7.0/4.3 (BP=0.570, ratio=0.640, hyp_len=30529, ref_len=47699)\n",
    "BLEU = 6.69, 42.3/13.2/6.6/4.0 (BP=0.607, ratio=0.667, hyp_len=31825, ref_len=47699)\n",
    "BLEU = 6.19, 43.7/14.2/7.3/4.4 (BP=0.519, ratio=0.604, hyp_len=28814, ref_len=47699)\n",
    "BLEU = 6.53, 43.4/13.8/6.9/4.1 (BP=0.573, ratio=0.642, hyp_len=30626, ref_len=47699)\n",
    "BLEU = 6.75, 43.7/14.4/7.3/4.4 (BP=0.566, ratio=0.637, hyp_len=30403, ref_len=47699)\n",
    "BLEU = 6.67, 44.5/14.9/7.8/4.8 (BP=0.530, ratio=0.612, hyp_len=29184, ref_len=47699)\n",
    "BLEU = 6.66, 44.8/14.9/7.9/4.8 (BP=0.528, ratio=0.610, hyp_len=29106, ref_len=47699)\n",
    "BLEU = 6.58, 44.7/14.8/7.7/4.7 (BP=0.531, ratio=0.612, hyp_len=29212, ref_len=47699)\n",
    "BLEU = 6.77, 44.6/14.7/7.8/4.8 (BP=0.540, ratio=0.619, hyp_len=29512, ref_len=47699)\n",
    "BLEU = 6.81, 44.6/14.9/7.8/4.8 (BP=0.543, ratio=0.621, hyp_len=29598, ref_len=47699)\n",
    "BLEU = 6.85, 45.1/15.2/7.9/4.8 (BP=0.539, ratio=0.618, hyp_len=29473, ref_len=47699)\n",
    "BLEU = 6.78, 44.8/14.8/7.8/4.7 (BP=0.542, ratio=0.620, hyp_len=29586, ref_len=47699)\n",
    "BLEU = 6.85, 44.9/14.9/7.8/4.7 (BP=0.547, ratio=0.624, hyp_len=29744, ref_len=47699)\n",
    "BLEU = 6.76, 44.7/14.8/7.8/4.7 (BP=0.542, ratio=0.620, hyp_len=29576, ref_len=47699)\"\"\".split('\\n')\n",
    "\n",
    "lenup = \"\"\"BLEU = 4.62, 38.4/11.0/5.6/3.3 (BP=0.493, ratio=0.586, hyp_len=27941, ref_len=47699)\n",
    "BLEU = 7.29, 38.4/12.2/6.2/3.7 (BP=0.717, ratio=0.750, hyp_len=35791, ref_len=47699)\n",
    "BLEU = 8.24, 41.5/13.9/7.2/4.3 (BP=0.712, ratio=0.747, hyp_len=35614, ref_len=47699)\n",
    "BLEU = 8.07, 42.4/14.2/7.4/4.5 (BP=0.680, ratio=0.722, hyp_len=34420, ref_len=47699)\n",
    "BLEU = 7.72, 43.5/15.0/8.1/5.0 (BP=0.606, ratio=0.667, hyp_len=31794, ref_len=47699)\n",
    "BLEU = 8.28, 43.1/15.1/8.1/5.1 (BP=0.647, ratio=0.697, hyp_len=33235, ref_len=47699)\n",
    "BLEU = 8.03, 44.1/15.5/8.6/5.5 (BP=0.600, ratio=0.662, hyp_len=31572, ref_len=47699)\n",
    "BLEU = 8.24, 44.7/16.1/8.7/5.4 (BP=0.609, ratio=0.668, hyp_len=31876, ref_len=47699)\n",
    "BLEU = 8.07, 45.1/16.3/8.8/5.5 (BP=0.589, ratio=0.654, hyp_len=31189, ref_len=47699)\n",
    "BLEU = 8.09, 44.8/16.1/8.7/5.5 (BP=0.592, ratio=0.656, hyp_len=31303, ref_len=47699)\n",
    "BLEU = 8.62, 45.1/16.6/9.1/5.8 (BP=0.611, ratio=0.670, hyp_len=31952, ref_len=47699)\n",
    "BLEU = 8.41, 45.1/16.1/8.9/5.6 (BP=0.608, ratio=0.668, hyp_len=31866, ref_len=47699)\n",
    "BLEU = 8.45, 45.5/16.6/9.3/6.0 (BP=0.591, ratio=0.655, hyp_len=31257, ref_len=47699)\n",
    "BLEU = 8.62, 45.4/16.6/9.1/5.7 (BP=0.612, ratio=0.671, hyp_len=31987, ref_len=47699)\n",
    "BLEU = 8.63, 45.2/16.5/9.0/5.7 (BP=0.616, ratio=0.674, hyp_len=32135, ref_len=47699)\n",
    "BLEU = 8.68, 45.7/16.8/9.4/6.0 (BP=0.602, ratio=0.663, hyp_len=31625, ref_len=47699)\n",
    "BLEU = 8.60, 45.4/16.7/9.1/5.8 (BP=0.610, ratio=0.669, hyp_len=31908, ref_len=47699)\n",
    "BLEU = 8.64, 45.8/16.8/9.4/5.9 (BP=0.600, ratio=0.662, hyp_len=31584, ref_len=47699)\n",
    "BLEU = 8.62, 45.4/16.5/9.2/5.8 (BP=0.609, ratio=0.669, hyp_len=31891, ref_len=47699)\n",
    "BLEU = 8.67, 45.6/16.7/9.3/5.9 (BP=0.608, ratio=0.667, hyp_len=31836, ref_len=47699)\"\"\".split('\\n')"
   ]
  },
  {
   "cell_type": "code",
   "execution_count": 3,
   "metadata": {},
   "outputs": [],
   "source": [
    "import pandas as pd\n",
    "import matplotlib.pyplot as plt\n",
    "bleu = ([[float(i.split()[2][:-1]) for i in j] for j in [lenu, lenup, lenum, lenupm]])\n",
    "\n",
    "\n"
   ]
  },
  {
   "cell_type": "code",
   "execution_count": 4,
   "metadata": {},
   "outputs": [],
   "source": [
    "scores = [(0,0,0,0)]\n",
    "scores += [(bleu[0][i],bleu[1][i],bleu[2][i],bleu[3][i]) for i in range(len(bleu[0]))]"
   ]
  },
  {
   "cell_type": "code",
   "execution_count": 5,
   "metadata": {},
   "outputs": [],
   "source": [
    "final_score = pd.DataFrame(scores, columns=['LeNu','LeNuP','LeNu+MS','LeNuP+MS'])"
   ]
  },
  {
   "cell_type": "code",
   "execution_count": 6,
   "metadata": {},
   "outputs": [],
   "source": [
    "final_score['iterations'] = [i for i in range(0,105000,5000)]"
   ]
  },
  {
   "cell_type": "code",
   "execution_count": 7,
   "metadata": {},
   "outputs": [],
   "source": [
    "final_score.to_csv('bleu_scores.csv')"
   ]
  },
  {
   "cell_type": "code",
   "execution_count": 17,
   "metadata": {},
   "outputs": [
    {
     "data": {
      "image/png": "[encoded data removed]",
      "text/plain": [
       "<Figure size 432x288 with 1 Axes>"
      ]
     },
     "metadata": {
      "needs_background": "light"
     },
     "output_type": "display_data"
    }
   ],
   "source": [
    "plt.plot(figsize = (100,50))\n",
    "plt.plot( 'iterations', 'LeNu', data=final_score,  color='red')\n",
    "plt.plot( 'iterations', 'LeNuP', data=final_score, color='pink')\n",
    "plt.plot( 'iterations', 'LeNu+MS', data=final_score, color='blue')\n",
    "plt.plot( 'iterations', 'LeNuP+MS', data=final_score, color='navy')\n",
    "plt.legend()\n",
    "plt.xlabel(\"Iterations\")\n",
    "plt.ylabel(\"BLEU Scores\")\n",
    "\n",
    "plt.savefig('ss.png')"
   ]
  },
  {
   "cell_type": "code",
   "execution_count": null,
   "metadata": {},
   "outputs": [],
   "source": []
  }
 ],
 "metadata": {
  "kernelspec": {
   "display_name": "Python 3",
   "language": "python",
   "name": "python3"
  },
  "language_info": {
   "codemirror_mode": {
    "name": "ipython",
    "version": 3
   },
   "file_extension": ".py",
   "mimetype": "text/x-python",
   "name": "python",
   "nbconvert_exporter": "python",
   "pygments_lexer": "ipython3",
   "version": "3.7.6"
  }
 },
 "nbformat": 4,
 "nbformat_minor": 4
}
