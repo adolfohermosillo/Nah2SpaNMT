{
 "cells": [
  {
   "cell_type": "markdown",
   "metadata": {},
   "source": [
    "# Alphanumeric Model"
   ]
  },
  {
   "cell_type": "markdown",
   "metadata": {},
   "source": [
    "Create variables"
   ]
  },
  {
   "cell_type": "code",
   "execution_count": null,
   "metadata": {},
   "outputs": [],
   "source": [
    "!export VOCAB_SOURCE=$data/alphanum-vocab-src.txt\n",
    "!export VOCAB_TARGET=$data/alphanum-vocab-tgt.txt\n",
    "!export TRAIN_SOURCES=$data/alphanum-train-src.txt\n",
    "!export TRAIN_TARGETS=$data/alphanum-train-tgt.txt\n",
    "!export DEV_SOURCES=$data/alphanum-dev-src.txt\n",
    "!export DEV_TARGETS=$data/alphanum-dev-tgt.txt\n",
    "\n",
    "!export DEV_TARGETS_REF=$data/alphanum-dev-tgt.txt\n",
    "!export TRAIN_STEPS=100000\n",
    "\n"
   ]
  },
  {
   "cell_type": "code",
   "execution_count": null,
   "metadata": {},
   "outputs": [],
   "source": [
    "onmt_preprocess -train_src data/alphanum-train-src.txt -train_tgt data/alphanum-train-tgt.txt\n",
    "-valid_src data/alphanum-dev-src.txt -valid_tgt data/alphanum-dev-tgt.txt -save_data data/alphanum-model\n"
   ]
  },
  {
   "cell_type": "code",
   "execution_count": null,
   "metadata": {},
   "outputs": [],
   "source": [
    "export VOCAB_SOURCE=$data/alphanum-vocab-src.txt\n",
    "export VOCAB_TARGET=$data/alphanum-vocab-tgt.txt\n",
    "export TRAIN_SOURCES=$data/alphanum-train-src.txt\n",
    "export TRAIN_TARGETS=$data/alphanum-train-tgt.txt\n",
    "export DEV_SOURCES=$data/alphanum-dev-src.txt\n",
    "export DEV_TARGETS=$data/alphanum-dev-tgt.txt\n",
    "\n",
    "export DEV_TARGETS_REF=$data/alphanum-dev-tgt.txt\n",
    "export TRAIN_STEPS=1000\n"
   ]
  },
  {
   "cell_type": "markdown",
   "metadata": {},
   "source": [
    "Run it"
   ]
  },
  {
   "cell_type": "code",
   "execution_count": null,
   "metadata": {},
   "outputs": [],
   "source": [
    "export MODEL_DIR=${TMPDIR:-/tmp}/nmt_tutorial\n",
    "mkdir -p $MODEL_DIR\n",
    "\n",
    "python -m bin.train \\\n",
    "  --config_paths=\"\n",
    "      .seq2seq/example_configs/nmt_small.yml,\n",
    "      .seq2seq/example_configs/train_seq2seq.yml,\n",
    "      .seq2seq/example_configs/text_metrics_bpe.yml\" \\\n",
    "  --model_params \"\n",
    "      vocab_source: $VOCAB_SOURCE\n",
    "      vocab_target: $VOCAB_TARGET\" \\\n",
    "  --input_pipeline_train \"\n",
    "    class: ParallelTextInputPipeline\n",
    "    params:\n",
    "      source_files:\n",
    "        - $TRAIN_SOURCES\n",
    "      target_files:\n",
    "        - $TRAIN_TARGETS\" \\\n",
    "  --input_pipeline_dev \"\n",
    "    class: ParallelTextInputPipeline\n",
    "    params:\n",
    "       source_files:\n",
    "        - $DEV_SOURCES\n",
    "       target_files:\n",
    "        - $DEV_TARGETS\" \\\n",
    "  --batch_size 32 \\\n",
    "  --train_steps $TRAIN_STEPS \\\n",
    "  --output_dir $MODEL_DIR"
   ]
  },
  {
   "cell_type": "code",
   "execution_count": null,
   "metadata": {},
   "outputs": [],
   "source": [
    "export MODEL_DIR=${TMPDIR:-/tmp}/nmt_tutorial\n",
    "mkdir -p $MODEL_DIR\n",
    "\n",
    "python -m bin.train \\\n",
    "  --config_paths=\"\n",
    "      ./example_configs/nmt_small.yml,\n",
    "      ./example_configs/train_seq2seq.yml,\n",
    "      ./example_configs/text_metrics_bpe.yml\" \\\n",
    "  --model_params \"\n",
    "      vocab_source: data/alphanumeric/alphanum-vocab-src.txt\n",
    "      vocab_target: data/alphanumeric/alphanum-vocab-tgt.txt\" \\\n",
    "  --input_pipeline_train \"\n",
    "    class: ParallelTextInputPipeline\n",
    "    params:\n",
    "      source_files:\n",
    "        - data/alphanumeric/alphanum-train-src.txt\n",
    "      target_files:\n",
    "        - data/alphanumeric/alphanum-train-tgt.txt\" \\\n",
    "  --input_pipeline_dev \"\n",
    "    class: ParallelTextInputPipeline\n",
    "    params:\n",
    "       source_files:\n",
    "        - data/alphanumeric/alphanum-dev-src.txt\n",
    "       target_files:\n",
    "        - data/alphanumeric/alphanum-dev-tgt.txt\" \\\n",
    "  --batch_size 32 \\\n",
    "  --train_steps data/alphanumeric/train_steps \\\n",
    "  --output_dir data/alphanumeric/output"
   ]
  },
  {
   "cell_type": "code",
   "execution_count": null,
   "metadata": {},
   "outputs": [],
   "source": [
    "export MODEL_DIR=${TMPDIR:-/tmp}/nmt_tutorial\n",
    "mkdir -p $MODEL_DIR\n",
    "\n",
    "python -m bin.train \\\n",
    "  --config_paths=\"\n",
    "      .seq2seq/example_configs/nmt_small.yml,\n",
    "      .seq2seq/example_configs/train_seq2seq.yml,\n",
    "      .seq2seq/example_configs/text_metrics_bpe.yml\" \\\n",
    "  --model_params \"\n",
    "      vocab_source: $VOCAB_SOURCE\n",
    "      vocab_target: $VOCAB_TARGET\" \\\n",
    "  --input_pipeline_train \"\n",
    "    class: ParallelTextInputPipeline\n",
    "    params:\n",
    "      source_files:\n",
    "        - $TRAIN_SOURCES\n",
    "      target_files:\n",
    "        - $TRAIN_TARGETS\" \\\n",
    "  --input_pipeline_dev \"\n",
    "    class: ParallelTextInputPipeline\n",
    "    params:\n",
    "       source_files:\n",
    "        - $DEV_SOURCES\n",
    "       target_files:\n",
    "        - $DEV_TARGETS\" \\\n",
    "  --batch_size 32 \\\n",
    "  --train_steps $TRAIN_STEPS \\\n",
    "  --output_dir $MODEL_DIR"
   ]
  },
  {
   "cell_type": "code",
   "execution_count": 55,
   "metadata": {},
   "outputs": [],
   "source": [
    "x = '''BLEU = 6.07, 33.8/11.4/5.9/3.5 (BP=0.644, ratio=0.694, hyp_len=29314, ref_len=42236)\n",
    "It is not advisable to publish scores from multi-bleu.perl.  The scores depend on your tokenizer, which is unlikely to be reproducible from your paper or consistent across research groups.  Instead you should detokenize then use mteval-v14.pl, which has a standard tokenization.  Scores from multi-bleu.perl can still be used for internal purposes when you have a consistent tokenizer.\n",
    "BLEU = 6.91, 35.3/12.7/6.6/4.1 (BP=0.655, ratio=0.703, hyp_len=29693, ref_len=42236)\n",
    "It is not advisable to publish scores from multi-bleu.perl.  The scores depend on your tokenizer, which is unlikely to be reproducible from your paper or consistent across research groups.  Instead you should detokenize then use mteval-v14.pl, which has a standard tokenization.  Scores from multi-bleu.perl can still be used for internal purposes when you have a consistent tokenizer.\n",
    "BLEU = 6.35, 39.5/15.2/8.4/5.3 (BP=0.498, ratio=0.589, hyp_len=24875, ref_len=42236)\n",
    "It is not advisable to publish scores from multi-bleu.perl.  The scores depend on your tokenizer, which is unlikely to be reproducible from your paper or consistent across research groups.  Instead you should detokenize then use mteval-v14.pl, which has a standard tokenization.  Scores from multi-bleu.perl can still be used for internal purposes when you have a consistent tokenizer.\n",
    "BLEU = 8.13, 37.4/13.8/7.3/4.5 (BP=0.711, ratio=0.745, hyp_len=31481, ref_len=42236)\n",
    "It is not advisable to publish scores from multi-bleu.perl.  The scores depend on your tokenizer, which is unlikely to be reproducible from your paper or consistent across research groups.  Instead you should detokenize then use mteval-v14.pl, which has a standard tokenization.  Scores from multi-bleu.perl can still be used for internal purposes when you have a consistent tokenizer.\n",
    "BLEU = 7.66, 38.1/14.2/7.7/4.8 (BP=0.646, ratio=0.696, hyp_len=29400, ref_len=42236)\n",
    "It is not advisable to publish scores from multi-bleu.perl.  The scores depend on your tokenizer, which is unlikely to be reproducible from your paper or consistent across research groups.  Instead you should detokenize then use mteval-v14.pl, which has a standard tokenization.  Scores from multi-bleu.perl can still be used for internal purposes when you have a consistent tokenizer.\n",
    "BLEU = 7.44, 39.8/15.3/8.4/5.3 (BP=0.580, ratio=0.648, hyp_len=27351, ref_len=42236)\n",
    "It is not advisable to publish scores from multi-bleu.perl.  The scores depend on your tokenizer, which is unlikely to be reproducible from your paper or consistent across research groups.  Instead you should detokenize then use mteval-v14.pl, which has a standard tokenization.  Scores from multi-bleu.perl can still be used for internal purposes when you have a consistent tokenizer.\n",
    "BLEU = 7.59, 40.2/15.6/8.5/5.3 (BP=0.585, ratio=0.651, hyp_len=27509, ref_len=42236)\n",
    "It is not advisable to publish scores from multi-bleu.perl.  The scores depend on your tokenizer, which is unlikely to be reproducible from your paper or consistent across research groups.  Instead you should detokenize then use mteval-v14.pl, which has a standard tokenization.  Scores from multi-bleu.perl can still be used for internal purposes when you have a consistent tokenizer.\n",
    "BLEU = 6.89, 40.9/16.7/9.5/6.1 (BP=0.489, ratio=0.583, hyp_len=24611, ref_len=42236)\n",
    "It is not advisable to publish scores from multi-bleu.perl.  The scores depend on your tokenizer, which is unlikely to be reproducible from your paper or consistent across research groups.  Instead you should detokenize then use mteval-v14.pl, which has a standard tokenization.  Scores from multi-bleu.perl can still be used for internal purposes when you have a consistent tokenizer.\n",
    "BLEU = 7.31, 40.7/16.1/8.9/5.7 (BP=0.541, ratio=0.620, hyp_len=26176, ref_len=42236)\n",
    "It is not advisable to publish scores from multi-bleu.perl.  The scores depend on your tokenizer, which is unlikely to be reproducible from your paper or consistent across research groups.  Instead you should detokenize then use mteval-v14.pl, which has a standard tokenization.  Scores from multi-bleu.perl can still be used for internal purposes when you have a consistent tokenizer.\n",
    "BLEU = 8.11, 40.2/15.9/8.8/5.5 (BP=0.613, ratio=0.671, hyp_len=28346, ref_len=42236)\n",
    "It is not advisable to publish scores from multi-bleu.perl.  The scores depend on your tokenizer, which is unlikely to be reproducible from your paper or consistent across research groups.  Instead you should detokenize then use mteval-v14.pl, which has a standard tokenization.  Scores from multi-bleu.perl can still be used for internal purposes when you have a consistent tokenizer.\n",
    "BLEU = 7.93, 41.1/16.7/9.5/6.0 (BP=0.563, ratio=0.635, hyp_len=26830, ref_len=42236)\n",
    "It is not advisable to publish scores from multi-bleu.perl.  The scores depend on your tokenizer, which is unlikely to be reproducible from your paper or consistent across research groups.  Instead you should detokenize then use mteval-v14.pl, which has a standard tokenization.  Scores from multi-bleu.perl can still be used for internal purposes when you have a consistent tokenizer.\n",
    "BLEU = 8.16, 41.7/17.0/9.5/6.1 (BP=0.574, ratio=0.643, hyp_len=27149, ref_len=42236)\n",
    "It is not advisable to publish scores from multi-bleu.perl.  The scores depend on your tokenizer, which is unlikely to be reproducible from your paper or consistent across research groups.  Instead you should detokenize then use mteval-v14.pl, which has a standard tokenization.  Scores from multi-bleu.perl can still be used for internal purposes when you have a consistent tokenizer.\n",
    "BLEU = 8.21, 41.7/17.2/9.7/6.3 (BP=0.568, ratio=0.638, hyp_len=26967, ref_len=42236)\n",
    "It is not advisable to publish scores from multi-bleu.perl.  The scores depend on your tokenizer, which is unlikely to be reproducible from your paper or consistent across research groups.  Instead you should detokenize then use mteval-v14.pl, which has a standard tokenization.  Scores from multi-bleu.perl can still be used for internal purposes when you have a consistent tokenizer.\n",
    "BLEU = 7.95, 41.9/17.1/9.7/6.2 (BP=0.552, ratio=0.627, hyp_len=26488, ref_len=42236)\n",
    "It is not advisable to publish scores from multi-bleu.perl.  The scores depend on your tokenizer, which is unlikely to be reproducible from your paper or consistent across research groups.  Instead you should detokenize then use mteval-v14.pl, which has a standard tokenization.  Scores from multi-bleu.perl can still be used for internal purposes when you have a consistent tokenizer.\n",
    "BLEU = 8.20, 41.7/17.1/9.7/6.2 (BP=0.572, ratio=0.641, hyp_len=27084, ref_len=42236)\n",
    "It is not advisable to publish scores from multi-bleu.perl.  The scores depend on your tokenizer, which is unlikely to be reproducible from your paper or consistent across research groups.  Instead you should detokenize then use mteval-v14.pl, which has a standard tokenization.  Scores from multi-bleu.perl can still be used for internal purposes when you have a consistent tokenizer.\n",
    "BLEU = 8.11, 41.9/17.2/9.7/6.2 (BP=0.563, ratio=0.635, hyp_len=26817, ref_len=42236)\n",
    "It is not advisable to publish scores from multi-bleu.perl.  The scores depend on your tokenizer, which is unlikely to be reproducible from your paper or consistent across research groups.  Instead you should detokenize then use mteval-v14.pl, which has a standard tokenization.  Scores from multi-bleu.perl can still be used for internal purposes when you have a consistent tokenizer.\n",
    "BLEU = 8.29, 41.9/17.4/10.0/6.4 (BP=0.565, ratio=0.636, hyp_len=26879, ref_len=42236)\n",
    "It is not advisable to publish scores from multi-bleu.perl.  The scores depend on your tokenizer, which is unlikely to be reproducible from your paper or consistent across research groups.  Instead you should detokenize then use mteval-v14.pl, which has a standard tokenization.  Scores from multi-bleu.perl can still be used for internal purposes when you have a consistent tokenizer.\n",
    "BLEU = 8.23, 41.9/17.3/9.8/6.3 (BP=0.566, ratio=0.637, hyp_len=26916, ref_len=42236)\n",
    "It is not advisable to publish scores from multi-bleu.perl.  The scores depend on your tokenizer, which is unlikely to be reproducible from your paper or consistent across research groups.  Instead you should detokenize then use mteval-v14.pl, which has a standard tokenization.  Scores from multi-bleu.perl can still be used for internal purposes when you have a consistent tokenizer.\n",
    "BLEU = 8.21, 41.8/17.1/9.7/6.2 (BP=0.570, ratio=0.640, hyp_len=27030, ref_len=42236)\n",
    "It is not advisable to publish scores from multi-bleu.perl.  The scores depend on your tokenizer, which is unlikely to be reproducible from your paper or consistent across research groups.  Instead you should detokenize then use mteval-v14.pl, which has a standard tokenization.  Scores from multi-bleu.perl can still be used for internal purposes when you have a consistent tokenizer.'''"
   ]
  },
  {
   "cell_type": "code",
   "execution_count": 56,
   "metadata": {},
   "outputs": [],
   "source": [
    "bleu_scores = [(i.split()[2][:-1]) for i in x.split('\\n')] \n"
   ]
  },
  {
   "cell_type": "code",
   "execution_count": 57,
   "metadata": {},
   "outputs": [],
   "source": [
    "bleu = [0]\n",
    "bleu += [float(i) for idx,i in enumerate (bleu_scores) if idx%2 == 0]"
   ]
  },
  {
   "cell_type": "code",
   "execution_count": 58,
   "metadata": {},
   "outputs": [],
   "source": [
    "import pandas as pd\n",
    "import matplotlib"
   ]
  },
  {
   "cell_type": "code",
   "execution_count": 61,
   "metadata": {},
   "outputs": [],
   "source": [
    "performance = pd.DataFrame([i for i in zip(bleu,[i for i in range(0, 105000, 5000)])], columns = ['BLEU','Iterations'])"
   ]
  },
  {
   "cell_type": "code",
   "execution_count": 62,
   "metadata": {},
   "outputs": [
    {
     "data": {
      "image/png": "[encoded data removed]",
      "text/plain": [
       "<matplotlib.figure.Figure at 0x10f1a2da0>"
      ]
     },
     "metadata": {},
     "output_type": "display_data"
    }
   ],
   "source": [
    "import matplotlib.pyplot as plt\n",
    "plt.plot( performance.Iterations+[0],performance.BLEU+[0])\n",
    "plt.ylabel('BLEU')\n",
    "plt.xlabel('Iterations')\n",
    "\n",
    "plt.show()"
   ]
  },
  {
   "cell_type": "code",
   "execution_count": 63,
   "metadata": {},
   "outputs": [],
   "source": [
    "import seaborn as sns; sns.set()\n",
    "import matplotlib.pyplot as plt"
   ]
  },
  {
   "cell_type": "code",
   "execution_count": 72,
   "metadata": {},
   "outputs": [
    {
     "data": {
      "image/png": "[encoded data removed]",
      "text/plain": [
       "<matplotlib.figure.Figure at 0x117a55c18>"
      ]
     },
     "metadata": {},
     "output_type": "display_data"
    }
   ],
   "source": [
    "\n",
    "ax = sns.lineplot(x=\"Iterations\",y=\"BLEU\", data=performance)\n"
   ]
  },
  {
   "cell_type": "code",
   "execution_count": null,
   "metadata": {},
   "outputs": [],
   "source": [
    "\n",
    "onmt_train -data data/maln -save_model model/maln-model\n",
    "\n",
    "onmt_preprocess -train_src data/cnm-train-src.txt -train_tgt data/cnm-train-tgt.txt -valid_src data/maln-dev-src.txt -valid_tgt data/maln-dev-tgt.txt -save_data data/maln\n",
    "\n",
    "11559\n",
    "\n",
    "perl evaluation/multi-bleu.perl predictions/pred_cnm_40000.txt < data/cnm-test-tgt.txt\n",
    "\n",
    "perl evaluation/multi-bleu.perl predictions/pred_cnm_5000.txt < data/cnm-test-tgt.txt\n",
    "perl evaluation/multi-bleu.perl predictions/pred_cnm_10000.txt < data/cnm-test-tgt.txt\n",
    "perl evaluation/multi-bleu.perl predictions/pred_cnm_15000.txt < data/cnm-test-tgt.txt\n",
    "perl evaluation/multi-bleu.perl predictions/pred_cnm_20000.txt < data/cnm-test-tgt.txt\n",
    "perl evaluation/multi-bleu.perl predictions/pred_cnm_25000.txt < data/cnm-test-tgt.txt\n",
    "perl evaluation/multi-bleu.perl predictions/pred_cnm_30000.txt < data/cnm-test-tgt.txt\n",
    "perl evaluation/multi-bleu.perl predictions/pred_cnm_35000.txt < data/cnm-test-tgt.txt\n",
    "perl evaluation/multi-bleu.perl predictions/pred_cnm_40000.txt < data/cnm-test-tgt.txt\n",
    "perl evaluation/multi-bleu.perl predictions/pred_cnm_45000.txt < data/cnm-test-tgt.txt\n",
    "perl evaluation/multi-bleu.perl predictions/pred_cnm_50000.txt < data/cnm-test-tgt.txt\n",
    "\n"
   ]
  },
  {
   "cell_type": "code",
   "execution_count": null,
   "metadata": {},
   "outputs": [],
   "source": [
    "maln = 11559\n",
    "cnm  = 12222\n"
   ]
  },
  {
   "cell_type": "code",
   "execution_count": 3,
   "metadata": {},
   "outputs": [
    {
     "name": "stdout",
     "output_type": "stream",
     "text": [
      "onmt_translate -model model/cnm-model_step_5000.pt -src data/cnm-test-src.txt -output predictions/pred_cnm_5000.txt -replace_unk\n",
      "onmt_translate -model model/cnm-model_step_10000.pt -src data/cnm-test-src.txt -output predictions/pred_cnm_10000.txt -replace_unk\n",
      "onmt_translate -model model/cnm-model_step_15000.pt -src data/cnm-test-src.txt -output predictions/pred_cnm_15000.txt -replace_unk\n",
      "onmt_translate -model model/cnm-model_step_20000.pt -src data/cnm-test-src.txt -output predictions/pred_cnm_20000.txt -replace_unk\n",
      "onmt_translate -model model/cnm-model_step_25000.pt -src data/cnm-test-src.txt -output predictions/pred_cnm_25000.txt -replace_unk\n",
      "onmt_translate -model model/cnm-model_step_30000.pt -src data/cnm-test-src.txt -output predictions/pred_cnm_30000.txt -replace_unk\n",
      "onmt_translate -model model/cnm-model_step_35000.pt -src data/cnm-test-src.txt -output predictions/pred_cnm_35000.txt -replace_unk\n",
      "onmt_translate -model model/cnm-model_step_40000.pt -src data/cnm-test-src.txt -output predictions/pred_cnm_40000.txt -replace_unk\n",
      "onmt_translate -model model/cnm-model_step_45000.pt -src data/cnm-test-src.txt -output predictions/pred_cnm_45000.txt -replace_unk\n",
      "onmt_translate -model model/cnm-model_step_50000.pt -src data/cnm-test-src.txt -output predictions/pred_cnm_50000.txt -replace_unk\n",
      "onmt_translate -model model/cnm-model_step_55000.pt -src data/cnm-test-src.txt -output predictions/pred_cnm_55000.txt -replace_unk\n",
      "onmt_translate -model model/cnm-model_step_60000.pt -src data/cnm-test-src.txt -output predictions/pred_cnm_60000.txt -replace_unk\n",
      "onmt_translate -model model/cnm-model_step_65000.pt -src data/cnm-test-src.txt -output predictions/pred_cnm_65000.txt -replace_unk\n",
      "onmt_translate -model model/cnm-model_step_70000.pt -src data/cnm-test-src.txt -output predictions/pred_cnm_70000.txt -replace_unk\n",
      "onmt_translate -model model/cnm-model_step_75000.pt -src data/cnm-test-src.txt -output predictions/pred_cnm_75000.txt -replace_unk\n",
      "onmt_translate -model model/cnm-model_step_80000.pt -src data/cnm-test-src.txt -output predictions/pred_cnm_80000.txt -replace_unk\n",
      "onmt_translate -model model/cnm-model_step_85000.pt -src data/cnm-test-src.txt -output predictions/pred_cnm_85000.txt -replace_unk\n",
      "onmt_translate -model model/cnm-model_step_90000.pt -src data/cnm-test-src.txt -output predictions/pred_cnm_90000.txt -replace_unk\n",
      "onmt_translate -model model/cnm-model_step_95000.pt -src data/cnm-test-src.txt -output predictions/pred_cnm_95000.txt -replace_unk\n",
      "onmt_translate -model model/cnm-model_step_100000.pt -src data/cnm-test-src.txt -output predictions/pred_cnm_100000.txt -replace_unk\n"
     ]
    }
   ],
   "source": [
    "for i in range(5000, 105000,5000):\n",
    "    print('onmt_translate -model model/cnm-model_step_'+str(i)+'.pt -src data/cnm-test-src.txt -output predictions/pred_cnm_'+ str(i)+'.txt -replace_unk')\n",
    "\n",
    "    "
   ]
  },
  {
   "cell_type": "code",
   "execution_count": null,
   "metadata": {},
   "outputs": [],
   "source": []
  }
 ],
 "metadata": {
  "kernelspec": {
   "display_name": "Python 3",
   "language": "python",
   "name": "python3"
  },
  "language_info": {
   "codemirror_mode": {
    "name": "ipython",
    "version": 3
   },
   "file_extension": ".py",
   "mimetype": "text/x-python",
   "name": "python",
   "nbconvert_exporter": "python",
   "pygments_lexer": "ipython3",
   "version": "3.6.7"
  }
 },
 "nbformat": 4,
 "nbformat_minor": 2
}
